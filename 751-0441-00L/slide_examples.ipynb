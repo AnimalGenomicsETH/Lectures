{
 "cells": [
  {
   "cell_type": "code",
   "execution_count": null,
   "id": "cfe3351c-f508-4f0d-87fe-861a09d9b591",
   "metadata": {},
   "outputs": [],
   "source": [
    "%matplotlib widget\n",
    "\n",
    "import numpy as np\n",
    "import scipy.stats as ss\n",
    "import matplotlib.pyplot as plt"
   ]
  },
  {
   "cell_type": "code",
   "execution_count": null,
   "id": "d8433fd5-4414-459f-bcb7-eca022f39df9",
   "metadata": {},
   "outputs": [],
   "source": [
    "colour_A = 'darkorchid'\n",
    "colour_B = 'sandybrown'"
   ]
  },
  {
   "cell_type": "code",
   "execution_count": null,
   "id": "22609ab8-9874-47e4-87fc-31ed4e1bae76",
   "metadata": {},
   "outputs": [],
   "source": [
    "## bimodal test\n",
    "np.random.seed(seed=23522)\n",
    "\n",
    "bins = 51\n",
    "bin_range = (-10,30)\n",
    "A = ss.norm(10,2).rvs(1000)\n",
    "B = np.concatenate([ss.norm(0,2).rvs(500),ss.norm(20,2).rvs(500)])\n",
    "\n",
    "f, ax = plt.subplots()\n",
    "ax.hist(A,bins=bins,range=bin_range,histtype='step',color=colour_A)\n",
    "ax.axvline(x=np.median(A),c=colour_A,ls='--')\n",
    "ax.hist(B,bins=bins,range=bin_range,histtype='step',color=colour_B)\n",
    "ax.axvline(x=np.median(B),c=colour_B,ls='--')\n",
    "ax.text(-5,100,f'Student\\'s t-test\\np={ss.ttest_ind(A,B,equal_var=False)[1]:.3g}')"
   ]
  },
  {
   "cell_type": "code",
   "execution_count": null,
   "id": "6786f663-50dd-4b03-b8d9-0c8bef5f1295",
   "metadata": {},
   "outputs": [],
   "source": [
    "## bimodal test\n",
    "np.random.seed(seed=23312)\n",
    "\n",
    "bins = 501\n",
    "bin_range = (-10,30)\n",
    "A = ss.norm(10,2).rvs(100000)\n",
    "B = ss.norm(10.05,2).rvs(100000)\n",
    "\n",
    "f, ax = plt.subplots()\n",
    "ax.hist(A,bins=bins,range=bin_range,histtype='step',color=colour_A)\n",
    "ax.axvline(x=np.median(A),c=colour_A,ls='--')\n",
    "ax.hist(B,bins=bins,range=bin_range,histtype='step',color=colour_B)\n",
    "ax.axvline(x=np.median(B),c=colour_B,ls='--')\n",
    "ax.text(-5,800,f'Student\\'s t-test\\np={ss.ttest_ind(A,B,equal_var=False)[1]:.3g}')"
   ]
  },
  {
   "cell_type": "code",
   "execution_count": null,
   "id": "2120a93a-65dd-48b7-85cf-b5a0cf355507",
   "metadata": {},
   "outputs": [],
   "source": [
    "## Uneven median\n",
    "np.random.seed(seed=23523)\n",
    "\n",
    "A = ss.norm(10,2).rvs(1000)\n",
    "B = ss.expon(0,15).rvs(1000)\n",
    "\n",
    "bins = 51\n",
    "bin_range = (-10,30)\n",
    "f, ax = plt.subplots()\n",
    "ax.hist(A,bins=bins,range=bin_range,histtype='step',color=colour_A)\n",
    "ax.axvline(x=np.median(A),c=colour_A,ls='--')\n",
    "ax.hist(B,bins=bins,range=bin_range,histtype='step',color=colour_B)\n",
    "ax.axvline(x=np.median(B),c=colour_B,ls='--')\n",
    "ax.text(-5,80,f'Mann-Whitney U\\np={ss.mannwhitneyu(A,B)[1]:.3g}')"
   ]
  }
 ],
 "metadata": {
  "kernelspec": {
   "display_name": "Python 3 (ipykernel)",
   "language": "python",
   "name": "python3"
  },
  "language_info": {
   "codemirror_mode": {
    "name": "ipython",
    "version": 3
   },
   "file_extension": ".py",
   "mimetype": "text/x-python",
   "name": "python",
   "nbconvert_exporter": "python",
   "pygments_lexer": "ipython3",
   "version": "3.13.3"
  }
 },
 "nbformat": 4,
 "nbformat_minor": 5
}
