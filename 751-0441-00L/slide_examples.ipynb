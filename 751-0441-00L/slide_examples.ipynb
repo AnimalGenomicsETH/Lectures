{
 "cells": [
  {
   "cell_type": "code",
   "execution_count": null,
   "id": "cfe3351c-f508-4f0d-87fe-861a09d9b591",
   "metadata": {},
   "outputs": [],
   "source": [
    "%matplotlib widget\n",
    "\n",
    "import numpy as np\n",
    "import scipy.stats as ss\n",
    "import matplotlib.pyplot as plt"
   ]
  },
  {
   "cell_type": "code",
   "execution_count": null,
   "id": "d8433fd5-4414-459f-bcb7-eca022f39df9",
   "metadata": {},
   "outputs": [],
   "source": [
    "colour_A = 'darkorchid'\n",
    "colour_B = 'sandybrown'"
   ]
  },
  {
   "cell_type": "code",
   "execution_count": null,
   "id": "22609ab8-9874-47e4-87fc-31ed4e1bae76",
   "metadata": {},
   "outputs": [],
   "source": [
    "## bimodal test\n",
    "np.random.seed(seed=23522)\n",
    "\n",
    "bins = 51\n",
    "bin_range = (-10,30)\n",
    "A = ss.norm(10,2).rvs(1000)\n",
    "B = np.concatenate([ss.norm(0,2).rvs(500),ss.norm(20,2).rvs(500)])\n",
    "\n",
    "f, ax = plt.subplots()\n",
    "ax.hist(A,bins=bins,range=bin_range,histtype='step',color=colour_A)\n",
    "ax.axvline(x=np.median(A),c=colour_A,ls='--')\n",
    "ax.hist(B,bins=bins,range=bin_range,histtype='step',color=colour_B)\n",
    "ax.axvline(x=np.median(B),c=colour_B,ls='--')\n",
    "ax.text(-5,100,f'Student\\'s t-test\\np={ss.ttest_ind(A,B,equal_var=False)[1]:.3g}')"
   ]
  },
  {
   "cell_type": "code",
   "execution_count": null,
   "id": "6786f663-50dd-4b03-b8d9-0c8bef5f1295",
   "metadata": {},
   "outputs": [],
   "source": [
    "## bimodal test\n",
    "np.random.seed(seed=23312)\n",
    "\n",
    "bins = 501\n",
    "bin_range = (-10,30)\n",
    "A = ss.norm(10,2).rvs(100000)\n",
    "B = ss.norm(10.05,2).rvs(100000)\n",
    "\n",
    "f, ax = plt.subplots()\n",
    "ax.hist(A,bins=bins,range=bin_range,histtype='step',color=colour_A)\n",
    "ax.axvline(x=np.median(A),c=colour_A,ls='--')\n",
    "ax.hist(B,bins=bins,range=bin_range,histtype='step',color=colour_B)\n",
    "ax.axvline(x=np.median(B),c=colour_B,ls='--')\n",
    "ax.text(-5,800,f'Student\\'s t-test\\np={ss.ttest_ind(A,B,equal_var=False)[1]:.3g}')"
   ]
  },
  {
   "cell_type": "code",
   "execution_count": null,
   "id": "b7a1440d-81e5-4a18-940a-185e3c64ab85",
   "metadata": {},
   "outputs": [],
   "source": [
    "## Uneven median\n",
    "np.random.seed(seed=23523)\n",
    "\n",
    "A = ss.norm(10,2).rvs(1000)\n",
    "B = ss.expon(0,15).rvs(1000)\n",
    "\n",
    "bins = 51\n",
    "bin_range = (-10,30)\n",
    "f, ax = plt.subplots()\n",
    "ax.hist(A,bins=bins,range=bin_range,histtype='step',color=colour_A)\n",
    "ax.axvline(x=np.median(A),c=colour_A,ls='--')\n",
    "ax.hist(B,bins=bins,range=bin_range,histtype='step',color=colour_B)\n",
    "ax.axvline(x=np.median(B),c=colour_B,ls='--')\n",
    "ax.text(-5,80,f'Mann-Whitney U\\np={ss.mannwhitneyu(A,B)[1]:.3g}')"
   ]
  },
  {
   "cell_type": "code",
   "execution_count": null,
   "id": "674af0de-a06a-40a3-94e1-5a5246683a37",
   "metadata": {},
   "outputs": [],
   "source": [
    "## Sample size\n",
    "np.random.seed(seed=365243)\n",
    "\n",
    "A = np.linspace(0,1,100)\n",
    "B = A+ss.norm(0,1).rvs(100)\n",
    "C = A+ss.norm(0,1).rvs(100)\n",
    "\n",
    "f, ax = plt.subplots()\n",
    "ax.scatter(A,B,c=colour_A)\n",
    "res_1 = ss.linregress(A, B)\n",
    "ax.plot(A, res_1.intercept + res_1.slope*A, c=colour_A)\n",
    "ax.scatter(A,C,c=colour_B)\n",
    "res_2 = ss.linregress(A, C)\n",
    "ax.plot(A, res_2.intercept + res_2.slope*A, c=colour_B)\n",
    "\n",
    "ax.set_ylim([-3,5])\n",
    "ax.text(0,4,f'Pearson\\'s r\\np={ss.pearsonr(A,B)[1]:.3g}')\n",
    "ax.text(0.5,4,f'Pearson\\'s r\\np={ss.pearsonr(A,C)[1]:.3g}')"
   ]
  },
  {
   "cell_type": "code",
   "execution_count": null,
   "id": "983d0b92-8944-4918-aefd-28631537d5c9",
   "metadata": {},
   "outputs": [],
   "source": []
  }
 ],
 "metadata": {
  "kernelspec": {
   "display_name": "Python 3 (ipykernel)",
   "language": "python",
   "name": "python3"
  },
  "language_info": {
   "codemirror_mode": {
    "name": "ipython",
    "version": 3
   },
   "file_extension": ".py",
   "mimetype": "text/x-python",
   "name": "python",
   "nbconvert_exporter": "python",
   "pygments_lexer": "ipython3",
   "version": "3.13.3"
  }
 },
 "nbformat": 4,
 "nbformat_minor": 5
}
